{
 "cells": [
  {
   "cell_type": "code",
   "execution_count": 1,
   "metadata": {},
   "outputs": [
    {
     "data": {
      "text/plain": [
       "True"
      ]
     },
     "execution_count": 1,
     "metadata": {},
     "output_type": "execute_result"
    }
   ],
   "source": [
    "from dotenv import load_dotenv\n",
    "import os\n",
    "\n",
    "load_dotenv()"
   ]
  },
  {
   "cell_type": "code",
   "execution_count": null,
   "metadata": {},
   "outputs": [
    {
     "name": "stderr",
     "output_type": "stream",
     "text": [
      "C:\\Users\\m1nk1\\AppData\\Local\\Temp\\ipykernel_12604\\198463653.py:19: LangChainDeprecationWarning: The method `BaseChatModel.predict_messages` was deprecated in langchain-core 0.1.7 and will be removed in 1.0. Use :meth:`~invoke` instead.\n",
      "  chat.predict_messages(message)\n"
     ]
    },
    {
     "data": {
      "text/plain": [
       "AIMessage(content=\"La distanza tra il Messico e la Thailandia varia a seconda di quali punti specifici si considerano in ciascun paese.  Non si può dare una risposta precisa senza specificare città o coordinate geografiche.  Tuttavia, possiamo dire che la distanza è considerevole,  stimando diverse migliaia di chilometri,  considerando che si tratta di due paesi situati su continenti diversi (Nord America e Asia) e separati dall'Oceano Pacifico.  Per una misurazione precisa, sarebbe necessario utilizzare un calcolatore di distanza online indicando le coordinate o le città di partenza e arrivo.\\n\\nIl mio nome è Paolo.\", additional_kwargs={}, response_metadata={'prompt_feedback': {'block_reason': 0, 'safety_ratings': []}, 'finish_reason': 'STOP', 'safety_ratings': []}, id='run-32a9c086-743e-4947-a419-0c258b21aae4-0', usage_metadata={'input_tokens': 36, 'output_tokens': 135, 'total_tokens': 171, 'input_token_details': {'cache_read': 0}})"
      ]
     },
     "execution_count": 2,
     "metadata": {},
     "output_type": "execute_result"
    }
   ],
   "source": [
    "from langchain_google_genai import ChatGoogleGenerativeAI\n",
    "from langchain.schema import HumanMessage, AIMessage, SystemMessage\n",
    "\n",
    "chat = ChatGoogleGenerativeAI(\n",
    "    model=\"gemini-1.5-flash\",\n",
    "    temperature=0.8,\n",
    ")\n",
    "\n",
    "message = [\n",
    "    SystemMessage(\n",
    "        content=\"You are a geography expert. And you only reply in Italian.\",\n",
    "    ),\n",
    "    AIMessage(content=\"Ciao, mi chiamo Paolo!\"),\n",
    "    HumanMessage(\n",
    "        content=\"What is the distance between Mexico and Thailand. Also, whit is your name?\"\n",
    "    )\n",
    "]\n",
    "\n",
    "response = chat.invoke(message)\n",
    "print(response.content)\n"
   ]
  }
 ],
 "metadata": {
  "kernelspec": {
   "display_name": "env-python3.11",
   "language": "python",
   "name": "python3"
  },
  "language_info": {
   "codemirror_mode": {
    "name": "ipython",
    "version": 3
   },
   "file_extension": ".py",
   "mimetype": "text/x-python",
   "name": "python",
   "nbconvert_exporter": "python",
   "pygments_lexer": "ipython3",
   "version": "3.11.9"
  }
 },
 "nbformat": 4,
 "nbformat_minor": 2
}
