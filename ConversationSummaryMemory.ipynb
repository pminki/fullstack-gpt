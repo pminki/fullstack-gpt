{
 "cells": [
  {
   "cell_type": "code",
   "execution_count": null,
   "metadata": {},
   "outputs": [
    {
     "name": "stderr",
     "output_type": "stream",
     "text": [
      "C:\\Users\\m1nk1\\AppData\\Local\\Temp\\ipykernel_19912\\3275194509.py:26: LangChainDeprecationWarning: Please see the migration guide at: https://python.langchain.com/docs/versions/migrating_memory/\n",
      "  memory = ConversationSummaryMemory(llm = llm)\n"
     ]
    },
    {
     "ename": "NameError",
     "evalue": "name 'add_message' is not defined",
     "output_type": "error",
     "traceback": [
      "\u001b[1;31m---------------------------------------------------------------------------\u001b[0m",
      "\u001b[1;31mNameError\u001b[0m                                 Traceback (most recent call last)",
      "Cell \u001b[1;32mIn[4], line 37\u001b[0m\n\u001b[0;32m     34\u001b[0m \u001b[38;5;28;01mdef\u001b[39;00m \u001b[38;5;21mget_history\u001b[39m():\n\u001b[0;32m     35\u001b[0m     \u001b[38;5;28;01mreturn\u001b[39;00m memory\u001b[38;5;241m.\u001b[39mload_memory_variables({})\n\u001b[1;32m---> 37\u001b[0m \u001b[43madd_message\u001b[49m(\u001b[38;5;124m\"\u001b[39m\u001b[38;5;124mHi I\u001b[39m\u001b[38;5;124m'\u001b[39m\u001b[38;5;124mm Min, I live in South Korea\u001b[39m\u001b[38;5;124m\"\u001b[39m, \u001b[38;5;124m\"\u001b[39m\u001b[38;5;124mWow tha is so coll!!\u001b[39m\u001b[38;5;124m\"\u001b[39m)\n\u001b[0;32m     39\u001b[0m add_message(\u001b[38;5;124m\"\u001b[39m\u001b[38;5;124mSouth Korea is so pretty\u001b[39m\u001b[38;5;124m\"\u001b[39m, \u001b[38;5;124m\"\u001b[39m\u001b[38;5;124mI wish I could go!!!\u001b[39m\u001b[38;5;124m\"\u001b[39m)\n\u001b[0;32m     41\u001b[0m get_history()\n",
      "\u001b[1;31mNameError\u001b[0m: name 'add_message' is not defined"
     ]
    }
   ],
   "source": [
    "\"\"\"\n",
    "Conversation summary memory\n",
    "\n",
    "ConversationSummaryMemory 형태의 메모리는 시간이 지남에 따라\n",
    "대화의 요약을 만듭니다. 이것은 시간이 지남에 따라 대화의 정보를 \n",
    "압축하는데 유용할 수 있습니다.\n",
    "대화 요약 메모리는 대화가 진행되는 대로 요약하고 현재 요약 내용을\n",
    "메모리에 저장합니다. 그러면 이 메모리를 사용하여 지금까지의 대화의\n",
    "요약 내용을 프롬프트/체인에 삽입할 수 있습니다. 이 메모리는 과거\n",
    "메시지의 기록을 프롬프트 축어적 보고에 유지하는 것이 토큰을 너무 많이\n",
    "차지하는 긴 대화에 가장 유용합니다.\n",
    "\"\"\"\n",
    "from langchain.memory import ConversationSummaryMemory\n",
    "from langchain_google_genai import ChatGoogleGenerativeAI\n",
    "from langchain.callbacks import StreamingStdOutCallbackHandler\n",
    "\n",
    "llm = ChatGoogleGenerativeAI(\n",
    "    temperature = 0.1,\n",
    "    model=\"gemini-1.5-flash\",\n",
    "    streaming = True,\n",
    "    callbacks = [\n",
    "        StreamingStdOutCallbackHandler(),\n",
    "    ],\n",
    ")\n",
    "\n",
    "memory = ConversationSummaryMemory(llm = llm)\n",
    "\n",
    "def add_message(input, output):\n",
    "    memory.save_context(\n",
    "        {\"input\": input},\n",
    "        {\"output\": output}\n",
    "    )\n",
    "\n",
    "def get_history():\n",
    "    return memory.load_memory_variables({})\n",
    "\n",
    "add_message(\"Hi I'm Min, I live in South Korea\", \"Wow tha is so coll!!\")\n",
    "\n",
    "add_message(\"South Korea is so pretty\", \"I wish I could go!!!\")\n",
    "\n",
    "get_history()\n"
   ]
  }
 ],
 "metadata": {
  "kernelspec": {
   "display_name": "env-python3.11",
   "language": "python",
   "name": "python3"
  },
  "language_info": {
   "codemirror_mode": {
    "name": "ipython",
    "version": 3
   },
   "file_extension": ".py",
   "mimetype": "text/x-python",
   "name": "python",
   "nbconvert_exporter": "python",
   "pygments_lexer": "ipython3",
   "version": "3.11.9"
  }
 },
 "nbformat": 4,
 "nbformat_minor": 2
}
