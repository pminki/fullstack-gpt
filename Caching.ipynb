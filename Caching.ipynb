{
 "cells": [
  {
   "cell_type": "code",
   "execution_count": null,
   "metadata": {},
   "outputs": [
    {
     "data": {
      "text/plain": [
       "AIMessage(content='Korean food is incredibly diverse, so there\\'s no single answer to \"how do you make Korean food.\"  However, I can give you a general overview and some examples of popular dishes and their basic preparation methods:\\n\\n**General Principles of Korean Cooking:**\\n\\n* **Balance of Flavors:** Korean cuisine emphasizes a balance of sweet, sour, spicy, salty, and savory (umami) flavors.  This is often achieved through the use of various sauces and condiments.\\n* **Fresh Ingredients:**  Fresh, high-quality ingredients are key.  Many dishes rely on the natural flavors of vegetables, meats, and seafood.\\n* **Fermentation:**  Fermented ingredients like kimchi (fermented cabbage), gochujang (fermented chili paste), and doenjang (fermented soybean paste) are staples and add depth of flavor.\\n* **Seasoning:**  Gochugaru (Korean chili flakes), garlic, ginger, soy sauce, sesame oil, and rice wine (mirin or makgeolli) are common seasonings.\\n* **Cooking Methods:**  Korean cooking utilizes a variety of methods, including stir-frying, grilling, stewing, and braising.\\n\\n\\n**Examples of Popular Korean Dishes and Basic Preparation:**\\n\\n* **Kimchi:**  Kimchi is made by fermenting Napa cabbage (or other vegetables) with a mixture of gochugaru, garlic, ginger, jeotgal (fermented seafood), and other seasonings.  The fermentation process takes time, typically several days.\\n\\n* **Bibimbap:**  This mixed rice bowl is a colorful and nutritious dish.  It typically includes seasoned rice, sautéed vegetables (like spinach, carrots, zucchini), a fried egg, bulgogi (marinated beef), and gochujang.\\n\\n* **Bulgogi:**  Thinly sliced marinated beef is grilled or pan-fried.  The marinade usually includes soy sauce, sesame oil, garlic, ginger, sugar, and pear or onion for sweetness.\\n\\n* **Kimchi jjigae (Kimchi Stew):**  A hearty stew made with kimchi, pork (or tofu), onions, and other vegetables.  It\\'s simmered until the flavors meld.\\n\\n* **Japchae (Glass Noodles):**  Sweet potato noodles are stir-fried with vegetables and often meat.  Soy sauce, sesame oil, and sugar are common seasonings.\\n\\n* **Korean Pancakes (Jeon):**  These savory pancakes can be made with various ingredients, such as seafood, vegetables, or meat.  They\\'re dipped in a batter and pan-fried until golden brown.\\n\\n\\n**To get started making Korean food:**\\n\\n1. **Gather essential ingredients:**  Start with basic seasonings like gochugaru, soy sauce, sesame oil, garlic, and ginger.  You can find these at most Asian grocery stores or online.\\n2. **Find recipes:**  Numerous Korean cookbooks and online resources (websites, YouTube channels) offer detailed recipes for various dishes.  Start with simpler recipes before tackling more complex ones.\\n3. **Practice:**  Like any cuisine, mastering Korean cooking takes practice.  Don\\'t be discouraged if your first attempts aren\\'t perfect.\\n\\n\\nRemember to adjust the spice level to your preference.  Korean food can range from mild to very spicy, depending on the dish and the amount of gochugaru used.  Enjoy the process of exploring the delicious world of Korean cuisine!', additional_kwargs={}, response_metadata={'prompt_feedback': {'block_reason': 0, 'safety_ratings': []}, 'finish_reason': 'STOP', 'safety_ratings': []}, id='run-13024d7f-65fc-4efa-82d9-8a05fab3981a-0', usage_metadata={'input_tokens': 6, 'output_tokens': 709, 'total_tokens': 715, 'input_token_details': {'cache_read': 0}})"
      ]
     },
     "execution_count": 6,
     "metadata": {},
     "output_type": "execute_result"
    }
   ],
   "source": [
    "from langchain_google_genai import ChatGoogleGenerativeAI\n",
    "from langchain.callbacks import StreamingStdOutCallbackHandler\n",
    "from langchain.globals import set_llm_cache, set_debug\n",
    "from langchain.cache import InMemoryCache, SQLiteCache\n",
    "\n",
    "# set_llm_cache(InMemoryCache())\n",
    "set_llm_cache(SQLiteCache(\"cache.db\"))\n",
    "set_debug(True)\n",
    "\n",
    "chat = ChatGoogleGenerativeAI(\n",
    "    temperature=0.1,\n",
    "    model=\"gemini-1.5-flash\",\n",
    "    streaming=True,\n",
    "    callbacks=[\n",
    "        StreamingStdOutCallbackHandler(),\n",
    "    ]\n",
    ")\n",
    "\n",
    "chat.invoke(\"How do you make Korean food\")"
   ]
  }
 ],
 "metadata": {
  "kernelspec": {
   "display_name": "env-python3.11",
   "language": "python",
   "name": "python3"
  },
  "language_info": {
   "codemirror_mode": {
    "name": "ipython",
    "version": 3
   },
   "file_extension": ".py",
   "mimetype": "text/x-python",
   "name": "python",
   "nbconvert_exporter": "python",
   "pygments_lexer": "ipython3",
   "version": "3.11.9"
  }
 },
 "nbformat": 4,
 "nbformat_minor": 2
}
