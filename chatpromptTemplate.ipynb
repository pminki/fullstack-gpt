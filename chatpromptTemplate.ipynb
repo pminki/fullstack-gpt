{
 "cells": [
  {
   "cell_type": "code",
   "execution_count": 1,
   "metadata": {},
   "outputs": [
    {
     "name": "stdout",
     "output_type": "stream",
     "text": [
      "content=\"The distance between Hong Kong and Korea depends on which city in Korea you're referencing.  There's no single answer.\\n\\n* **Hong Kong to Seoul (South Korea):**  This is approximately 2,000-2,200 kilometers (1,240-1,370 miles), depending on the exact route.\\n\\n* **Hong Kong to other cities in South Korea:** The distance will vary, being shorter to cities in the south and longer to those in the north.\\n\\n* **Hong Kong to North Korea:**  The distance to Pyongyang, for example, would be significantly longer than to Seoul.  Precise distances are harder to find due to limited information about North Korea.\\n\\nTherefore, you need to specify the city in Korea to get a more precise distance.\" additional_kwargs={} response_metadata={'prompt_feedback': {'block_reason': 0, 'safety_ratings': []}, 'finish_reason': 'STOP', 'safety_ratings': []} id='run-ec53abd1-966c-42ef-857d-44d614086a8a-0' usage_metadata={'input_tokens': 8, 'output_tokens': 167, 'total_tokens': 175, 'input_token_details': {'cache_read': 0}}\n"
     ]
    }
   ],
   "source": [
    "from langchain_google_genai import ChatGoogleGenerativeAI\n",
    "from langchain.prompts import PromptTemplate, ChatPromptTemplate\n",
    "\n",
    "chat = ChatGoogleGenerativeAI(\n",
    "    temperature=0.1,\n",
    "    model=\"gemini-1.5-flash\",\n",
    ")\n",
    "\n",
    "template = PromptTemplate.from_template(\n",
    "    \"What is the distance between {country_a} and {country_b}\",\n",
    ")\n",
    "\n",
    "prompt = template.format(country_a=\"Hongkong\", country_b=\"Korea\")\n",
    "\n",
    "response = chat.invoke(prompt);\n",
    "print(response)"
   ]
  },
  {
   "cell_type": "code",
   "execution_count": 2,
   "metadata": {},
   "outputs": [
    {
     "name": "stdout",
     "output_type": "stream",
     "text": [
      "content='서울과 로스앤젤레스 간의 거리는 직선거리로 약 9,000킬로미터 정도 됩니다.  하지만 비행기로 이동하는 거리는 항공편 경로에 따라 약간씩 다르게 나타납니다.  제 이름은 제가 지금 대화하고 있는 시스템 내에서만 존재하는 이름이기 때문에,  특정한 이름은 없습니다.  저는 지리 전문가로서 정보를 제공하는 역할을 수행하는 인공지능입니다.' additional_kwargs={} response_metadata={'prompt_feedback': {'block_reason': 0, 'safety_ratings': []}, 'finish_reason': 'STOP', 'safety_ratings': []} id='run-7654d6dd-c05e-46f1-a0a0-00251bb02ebc-0' usage_metadata={'input_tokens': 45, 'output_tokens': 120, 'total_tokens': 165, 'input_token_details': {'cache_read': 0}}\n"
     ]
    }
   ],
   "source": [
    "template = ChatPromptTemplate.from_messages(\n",
    "    [\n",
    "        (\"system\", \"You are a geography expert. And you only reply in {language}.\"),\n",
    "        (\"ai\", \"안녕하세요. 저는 {name}입니다.\"),\n",
    "        (\n",
    "            \"human\",\n",
    "            \"{country_a}와 {country_b}의 거리는 얼마나 되? 그리고 네 이름은 뭐야?\",\n",
    "        )\n",
    "    ]\n",
    ")\n",
    "\n",
    "prompt = template.format_messages(\n",
    "    language=\"South Korean\",\n",
    "    name=\"멍뭉이\",\n",
    "    country_a=\"LA\",\n",
    "    country_b=\"seoul\",\n",
    ")\n",
    "\n",
    "response = chat.invoke(prompt)\n",
    "print(response);"
   ]
  }
 ],
 "metadata": {
  "kernelspec": {
   "display_name": "env-python3.11",
   "language": "python",
   "name": "python3"
  },
  "language_info": {
   "codemirror_mode": {
    "name": "ipython",
    "version": 3
   },
   "file_extension": ".py",
   "mimetype": "text/x-python",
   "name": "python",
   "nbconvert_exporter": "python",
   "pygments_lexer": "ipython3",
   "version": "3.11.9"
  }
 },
 "nbformat": 4,
 "nbformat_minor": 2
}
